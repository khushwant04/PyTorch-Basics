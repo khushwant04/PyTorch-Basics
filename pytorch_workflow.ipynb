{
 "cells": [
  {
   "cell_type": "markdown",
   "id": "f1f3a5b0-6b7e-4781-9fe6-70caccedb2e5",
   "metadata": {},
   "source": [
    "### Pytorch Workflow"
   ]
  },
  {
   "cell_type": "code",
   "execution_count": 1,
   "id": "ee80f2d9-afc0-44c6-bcc6-0cfc8e8b639e",
   "metadata": {},
   "outputs": [
    {
     "data": {
      "text/plain": [
       "{1: 'data (_prepare and load)',\n",
       " 2: 'build model',\n",
       " 3: 'fitting the model to data(training)',\n",
       " 4: 'making predictions and evaluating a model (infrence)',\n",
       " 5: 'saving and loading a model',\n",
       " 6: 'putting it all together'}"
      ]
     },
     "execution_count": 1,
     "metadata": {},
     "output_type": "execute_result"
    }
   ],
   "source": [
    "what_were_covering = {\n",
    "    1:'data (_prepare and load)',\n",
    "    2:'build model',\n",
    "    3:'fitting the model to data(training)',\n",
    "    4:'making predictions and evaluating a model (infrence)',\n",
    "    5:'saving and loading a model',\n",
    "    6:\"putting it all together\"   }\n",
    "what_were_covering"
   ]
  },
  {
   "cell_type": "code",
   "execution_count": 2,
   "id": "9488b7c9-6d30-47b2-836d-5e449cc8ae8f",
   "metadata": {},
   "outputs": [
    {
     "data": {
      "text/plain": [
       "'2.3.0.dev20240218+cu121'"
      ]
     },
     "execution_count": 2,
     "metadata": {},
     "output_type": "execute_result"
    }
   ],
   "source": [
    "import torch\n",
    "from torch import nn # nn contains all pytorchs building blocks for neural networks\n",
    "import numpy as np\n",
    "import matplotlib.pyplot as plt\n",
    "\n",
    "# check pytorch version\n",
    "torch.__version__"
   ]
  },
  {
   "cell_type": "markdown",
   "id": "6106a0c7-4f52-4ee1-ba65-e8b5c1934bc8",
   "metadata": {},
   "source": [
    "## Data preparing and loading\n",
    "Data can be anyting in ... machine learning\n",
    "* excel spredsheet\n",
    "* image of any kind\n",
    "* vidio\n",
    "* audio\n",
    "* DNA\n",
    "* Text"
   ]
  },
  {
   "cell_type": "code",
   "execution_count": 3,
   "id": "7009cc32-715f-499f-b46a-c83ef6f72da2",
   "metadata": {},
   "outputs": [
    {
     "data": {
      "text/plain": [
       "(tensor([[0.0000],\n",
       "         [0.0200],\n",
       "         [0.0400],\n",
       "         [0.0600],\n",
       "         [0.0800],\n",
       "         [0.1000],\n",
       "         [0.1200],\n",
       "         [0.1400],\n",
       "         [0.1600],\n",
       "         [0.1800]]),\n",
       " tensor([[0.3000],\n",
       "         [0.3140],\n",
       "         [0.3280],\n",
       "         [0.3420],\n",
       "         [0.3560],\n",
       "         [0.3700],\n",
       "         [0.3840],\n",
       "         [0.3980],\n",
       "         [0.4120],\n",
       "         [0.4260]]))"
      ]
     },
     "execution_count": 3,
     "metadata": {},
     "output_type": "execute_result"
    }
   ],
   "source": [
    "#create known parameters\n",
    "weight = 0.7\n",
    "bias = 0.3\n",
    "\n",
    "#create \n",
    "start = 0\n",
    "end = 1\n",
    "step = 0.02\n",
    "X = torch.arange(start,end,step).unsqueeze(dim=1)\n",
    "y = weight * X + bias\n",
    "\n",
    "X[:10],y[:10]"
   ]
  },
  {
   "cell_type": "code",
   "execution_count": 4,
   "id": "735aeaec-3c92-4c02-8671-23c8c0ff65d3",
   "metadata": {},
   "outputs": [
    {
     "data": {
      "text/plain": [
       "(50, 50)"
      ]
     },
     "execution_count": 4,
     "metadata": {},
     "output_type": "execute_result"
    }
   ],
   "source": [
    "len(X),len(y)"
   ]
  },
  {
   "cell_type": "markdown",
   "id": "0f2ec527-5952-441e-aa3c-fa40c96d0cac",
   "metadata": {},
   "source": [
    "### Splitting data into training and test sets"
   ]
  },
  {
   "cell_type": "code",
   "execution_count": 5,
   "id": "bedaf934-d954-4ca3-a168-8bcaed0b0c96",
   "metadata": {},
   "outputs": [
    {
     "data": {
      "text/plain": [
       "(40, 10, 40, 10)"
      ]
     },
     "execution_count": 5,
     "metadata": {},
     "output_type": "execute_result"
    }
   ],
   "source": [
    "# create a train/test split\n",
    "train_split = int(0.8*len(X))\n",
    "X_train,y_train = X[:train_split] ,y[:train_split]\n",
    "X_test,y_test = X[train_split:],y[train_split:]\n",
    "\n",
    "len(X_train),len(X_test),len(y_train),len(y_test)"
   ]
  },
  {
   "cell_type": "code",
   "execution_count": 6,
   "id": "e59d0a79-6982-4953-923a-18d9a02c47b1",
   "metadata": {},
   "outputs": [
    {
     "data": {
      "text/plain": [
       "(tensor([[0.0000],\n",
       "         [0.0200],\n",
       "         [0.0400],\n",
       "         [0.0600],\n",
       "         [0.0800],\n",
       "         [0.1000],\n",
       "         [0.1200],\n",
       "         [0.1400],\n",
       "         [0.1600],\n",
       "         [0.1800],\n",
       "         [0.2000],\n",
       "         [0.2200],\n",
       "         [0.2400],\n",
       "         [0.2600],\n",
       "         [0.2800],\n",
       "         [0.3000],\n",
       "         [0.3200],\n",
       "         [0.3400],\n",
       "         [0.3600],\n",
       "         [0.3800],\n",
       "         [0.4000],\n",
       "         [0.4200],\n",
       "         [0.4400],\n",
       "         [0.4600],\n",
       "         [0.4800],\n",
       "         [0.5000],\n",
       "         [0.5200],\n",
       "         [0.5400],\n",
       "         [0.5600],\n",
       "         [0.5800],\n",
       "         [0.6000],\n",
       "         [0.6200],\n",
       "         [0.6400],\n",
       "         [0.6600],\n",
       "         [0.6800],\n",
       "         [0.7000],\n",
       "         [0.7200],\n",
       "         [0.7400],\n",
       "         [0.7600],\n",
       "         [0.7800]]),\n",
       " tensor([[0.3000],\n",
       "         [0.3140],\n",
       "         [0.3280],\n",
       "         [0.3420],\n",
       "         [0.3560],\n",
       "         [0.3700],\n",
       "         [0.3840],\n",
       "         [0.3980],\n",
       "         [0.4120],\n",
       "         [0.4260],\n",
       "         [0.4400],\n",
       "         [0.4540],\n",
       "         [0.4680],\n",
       "         [0.4820],\n",
       "         [0.4960],\n",
       "         [0.5100],\n",
       "         [0.5240],\n",
       "         [0.5380],\n",
       "         [0.5520],\n",
       "         [0.5660],\n",
       "         [0.5800],\n",
       "         [0.5940],\n",
       "         [0.6080],\n",
       "         [0.6220],\n",
       "         [0.6360],\n",
       "         [0.6500],\n",
       "         [0.6640],\n",
       "         [0.6780],\n",
       "         [0.6920],\n",
       "         [0.7060],\n",
       "         [0.7200],\n",
       "         [0.7340],\n",
       "         [0.7480],\n",
       "         [0.7620],\n",
       "         [0.7760],\n",
       "         [0.7900],\n",
       "         [0.8040],\n",
       "         [0.8180],\n",
       "         [0.8320],\n",
       "         [0.8460]]))"
      ]
     },
     "execution_count": 6,
     "metadata": {},
     "output_type": "execute_result"
    }
   ],
   "source": [
    "X_train,y_train"
   ]
  },
  {
   "cell_type": "markdown",
   "id": "942ddff2-6897-4246-a60e-e6fe275ff9c1",
   "metadata": {},
   "source": [
    "### Data Visualization"
   ]
  },
  {
   "cell_type": "code",
   "execution_count": 7,
   "id": "0544c704-e95f-41cc-8a5e-a35b79a3ca04",
   "metadata": {},
   "outputs": [],
   "source": [
    "def plot_predictions(train_data=X_train,\n",
    "                    train_labels=y_train,\n",
    "                    test_data=X_test,\n",
    "                    test_labels=y_test,\n",
    "                    predictions=None):\n",
    "    \"\"\"\n",
    "    Plots training data, test data and compares predictions\n",
    "    \"\"\"\n",
    "    plt.figure(figsize=(10,7))\n",
    "\n",
    "    # plot training data in blue\n",
    "    plt.scatter(train_data,train_labels,c='b',s=4,label='Training data')\n",
    "\n",
    "\n",
    "    # plot test data in green\n",
    "    plt.scatter(test_data,test_labels,c='g',s=4,label='Test data')\n",
    "\n",
    "    # are there predictions?\n",
    "    if predictions is not None:\n",
    "        # Plot predicitions if they exists\n",
    "        plt.scatter(test_data,predictions,c='r',s=4,label='Predicitions')\n",
    "\n",
    "    # Show the legend\n",
    "    plt.legend(prop={'size':14});       "
   ]
  },
  {
   "cell_type": "code",
   "execution_count": 8,
   "id": "cdea01b0-0fa6-4738-aea8-b7fcfb8efc19",
   "metadata": {},
   "outputs": [
    {
     "data": {
      "image/png": "[encoded data removed]",
      "text/plain": [
       "<Figure size 1000x700 with 1 Axes>"
      ]
     },
     "metadata": {},
     "output_type": "display_data"
    }
   ],
   "source": [
    "plot_predictions()"
   ]
  },
  {
   "cell_type": "markdown",
   "id": "c2b6eb3b-4b8e-4105-a8ec-cb817c329ee0",
   "metadata": {},
   "source": [
    "### Build Model\n"
   ]
  },
  {
   "cell_type": "code",
   "execution_count": 9,
   "id": "4064b94c-1d73-4bf2-91cb-67da720ce417",
   "metadata": {},
   "outputs": [],
   "source": [
    "# Create linear regression model class\n",
    "class LinearRegressionModel(nn.Module):# <- almost everything in pytorch inherits fron nn.module\n",
    "    def __init__(self):\n",
    "        super().__init__()\n",
    "        self.weights = nn.Parameter(torch.randn(1,# <- start with a random weight and try to adjust it to the ideal weight\n",
    "                                               requires_grad=True,# <- can this Prarameter be updated via gradient descent?\n",
    "                                               dtype=torch.float))# <- Pytorch loves the datatype torch.float32\n",
    "        \n",
    "        self.bias = nn.Parameter(torch.randn(1,# <- start with random bias and try to adjust it to the ideal bias\n",
    "                                             requires_grad=True,# <- can this parameter be updated via gradient descent?\n",
    "                                            dtype=torch.float))# <- Pytorch loves the datatype torch.float32\n",
    "        \n",
    "        # Forward method to define the computation in the model\n",
    "    def forward(self,x:torch.Tensor) -> torch.Tensor: # 'x' is the input data\n",
    "        return self.weights * x + self.bias # this is the linear regression formula    "
   ]
  },
  {
   "cell_type": "markdown",
   "id": "b9499ce3-79f5-4a0e-a3f0-924f1d751c06",
   "metadata": {},
   "source": [
    "### Pytorch model building essentials\n",
    "* torch.nn - contains all of the building for computational graph(a neural network can be considerd a computational graph)\n",
    "* torch.nn.Parameter - what parameters should our model try and learn, often a Pytorch layer from torch.nn will set these for us\n",
    "* torch.nn.Module - The base class for all neural networks module,if you subclass it, you should overwrite forward() \n",
    "* torch.optim - this where the optimizer in Pytoch live, they will help with gradient descent\n",
    "* def forward() - All nn.Module subclasses require you to overwrite forward(),this defines what happens in the forward function                "
   ]
  },
  {
   "cell_type": "markdown",
   "id": "66b3fa5e-09bc-47a7-a17f-0ddbf2db0dcc",
   "metadata": {},
   "source": [
    "### Checking the contents of our Pytorch model\n",
    "Now we've created a model,lets see what's inside....\n",
    "So we can check our model parameter or what\"s inside our model using **.parameters()**"
   ]
  },
  {
   "cell_type": "code",
   "execution_count": 10,
   "id": "d1413605-3eda-474a-a080-a51c5db0a297",
   "metadata": {},
   "outputs": [
    {
     "data": {
      "text/plain": [
       "[Parameter containing:\n",
       " tensor([0.3367], requires_grad=True),\n",
       " Parameter containing:\n",
       " tensor([0.1288], requires_grad=True)]"
      ]
     },
     "execution_count": 10,
     "metadata": {},
     "output_type": "execute_result"
    }
   ],
   "source": [
    "# create a random seed\n",
    "torch.manual_seed(42)\n",
    "\n",
    "# Create an instance of the model (this is a subclass of nn.Module)\n",
    "model_0 = LinearRegressionModel()\n",
    "\n",
    "## check out the parameters\n",
    "list(model_0.parameters())"
   ]
  },
  {
   "cell_type": "code",
   "execution_count": 11,
   "id": "96c53927-167c-497b-9945-12bba75072c9",
   "metadata": {},
   "outputs": [
    {
     "data": {
      "text/plain": [
       "OrderedDict([('weights', tensor([0.3367])), ('bias', tensor([0.1288]))])"
      ]
     },
     "execution_count": 11,
     "metadata": {},
     "output_type": "execute_result"
    }
   ],
   "source": [
    "# List named parameters\n",
    "model_0.state_dict()"
   ]
  },
  {
   "cell_type": "code",
   "execution_count": 12,
   "id": "792012b8-df3c-49c7-9e6a-1098c7448d6b",
   "metadata": {},
   "outputs": [
    {
     "data": {
      "text/plain": [
       "(0.7, 0.3)"
      ]
     },
     "execution_count": 12,
     "metadata": {},
     "output_type": "execute_result"
    }
   ],
   "source": [
    "weight,bias"
   ]
  },
  {
   "cell_type": "markdown",
   "id": "53344eab-3cbf-4492-b2b1-36e44268e69c",
   "metadata": {},
   "source": [
    "### Making prediction using torch.infrence_mode()"
   ]
  },
  {
   "cell_type": "code",
   "execution_count": 13,
   "id": "5a8afe68-167e-43b3-abee-7606d34ddddb",
   "metadata": {},
   "outputs": [
    {
     "data": {
      "text/plain": [
       "tensor([[0.3982],\n",
       "        [0.4049],\n",
       "        [0.4116],\n",
       "        [0.4184],\n",
       "        [0.4251],\n",
       "        [0.4318],\n",
       "        [0.4386],\n",
       "        [0.4453],\n",
       "        [0.4520],\n",
       "        [0.4588]])"
      ]
     },
     "execution_count": 13,
     "metadata": {},
     "output_type": "execute_result"
    }
   ],
   "source": [
    "# make predicition with model\n",
    "with torch.inference_mode(): \n",
    "    y_preds = model_0(X_test)\n",
    "\n",
    "# can also do something similar with torch.no_grade()\n",
    "# with torch.no_grad():\n",
    "#     y_preds = model_0(X_test)\n",
    "y_preds    "
   ]
  },
  {
   "cell_type": "code",
   "execution_count": 14,
   "id": "6aa377ec-5e94-4092-aae9-de18eeb007ed",
   "metadata": {},
   "outputs": [
    {
     "data": {
      "text/plain": [
       "tensor([[0.8600],\n",
       "        [0.8740],\n",
       "        [0.8880],\n",
       "        [0.9020],\n",
       "        [0.9160],\n",
       "        [0.9300],\n",
       "        [0.9440],\n",
       "        [0.9580],\n",
       "        [0.9720],\n",
       "        [0.9860]])"
      ]
     },
     "execution_count": 14,
     "metadata": {},
     "output_type": "execute_result"
    }
   ],
   "source": [
    "y_test"
   ]
  },
  {
   "cell_type": "code",
   "execution_count": 15,
   "id": "339cbd06-38f8-4931-8651-78da27558629",
   "metadata": {},
   "outputs": [
    {
     "data": {
      "image/png": "[encoded data removed]",
      "text/plain": [
       "<Figure size 1000x700 with 1 Axes>"
      ]
     },
     "metadata": {},
     "output_type": "display_data"
    }
   ],
   "source": [
    "plot_predictions(predictions=y_preds)"
   ]
  },
  {
   "cell_type": "code",
   "execution_count": 16,
   "id": "bf087fbf-d19b-4097-b946-827f6e02239a",
   "metadata": {},
   "outputs": [],
   "source": [
    "# setup a loss function\n",
    "loss_fn = nn.L1Loss()\n",
    "\n",
    "#setup an optimizer\n",
    "optimizer = torch.optim.SGD(params=model_0.parameters(),\n",
    "                           lr=0.01) "
   ]
  },
  {
   "cell_type": "markdown",
   "id": "e6aad7e3-001c-43e4-900a-138b6e9a3ac5",
   "metadata": {},
   "source": [
    "### Building a training (and testing loop) loop in PyTorch:\n",
    "\n",
    "A couple of things we needed in the training loop:\n",
    "0. Loop through the data\n",
    "1. Forward pass (this involves data moving through our model's 'forward()' functions) - also called Forward Propagation\n",
    "2. Calculate the loss (compare forward pass predicition to ground truth labels)\n",
    "3. Optimizer zero grad\n",
    "4. Loss Backward - move backwards through the network to calculate the gradients of each  of the parameters of our model with respect to the loss (**BackPropagation**)\n",
    "5. Optimizer step - use the optimizer to adjust our models parameters to try and improve the loss (**gradient descent**)"
   ]
  },
  {
   "cell_type": "code",
   "execution_count": 17,
   "id": "d6afae64-1756-47e2-8f13-ca585ede1724",
   "metadata": {},
   "outputs": [
    {
     "name": "stdout",
     "output_type": "stream",
     "text": [
      "Epoch:0 | Loss: 0.31288138031959534 | Test_loss: 0.48106518387794495\n",
      "Epoch:10 | Loss: 0.1976713240146637 | Test_loss: 0.3463551998138428\n",
      "Epoch:20 | Loss: 0.08908725529909134 | Test_loss: 0.21729660034179688\n",
      "Epoch:30 | Loss: 0.053148526698350906 | Test_loss: 0.14464017748832703\n",
      "Epoch:40 | Loss: 0.04543796554207802 | Test_loss: 0.11360953003168106\n",
      "Epoch:50 | Loss: 0.04167863354086876 | Test_loss: 0.09919948130846024\n",
      "Epoch:60 | Loss: 0.03818932920694351 | Test_loss: 0.08886633068323135\n",
      "Epoch:70 | Loss: 0.03476089984178543 | Test_loss: 0.0805937647819519\n",
      "Epoch:80 | Loss: 0.03132382780313492 | Test_loss: 0.07232122868299484\n",
      "Epoch:90 | Loss: 0.02788739837706089 | Test_loss: 0.06473556160926819\n",
      "Epoch:100 | Loss: 0.024458957836031914 | Test_loss: 0.05646304413676262\n",
      "Epoch:110 | Loss: 0.021020207554101944 | Test_loss: 0.04819049686193466\n",
      "Epoch:120 | Loss: 0.01758546568453312 | Test_loss: 0.04060482233762741\n",
      "Epoch:130 | Loss: 0.014155393466353416 | Test_loss: 0.03233227878808975\n",
      "Epoch:140 | Loss: 0.010716589167714119 | Test_loss: 0.024059748277068138\n",
      "Epoch:150 | Loss: 0.0072835334576666355 | Test_loss: 0.016474086791276932\n",
      "Epoch:160 | Loss: 0.0038517764769494534 | Test_loss: 0.008201557211577892\n",
      "Epoch:170 | Loss: 0.008932482451200485 | Test_loss: 0.005023092031478882\n",
      "Epoch:180 | Loss: 0.008932482451200485 | Test_loss: 0.005023092031478882\n",
      "Epoch:190 | Loss: 0.008932482451200485 | Test_loss: 0.005023092031478882\n"
     ]
    }
   ],
   "source": [
    "# An epoch is one loop through the data...\n",
    "epochs  = 200\n",
    "\n",
    "#tracking diffrent values\n",
    "epoch_count = []\n",
    "loss_values = []\n",
    "test_loss_values = []\n",
    "\n",
    "### Training\n",
    "# 0 Loop through the data\n",
    "for epoch in range(epochs):\n",
    "    #set the model to training mode\n",
    "    model_0.train() # train mode in pytorch set all parameters that requires gradients to require gradients\n",
    "\n",
    "    #1. Forward pass\n",
    "    y_pred = model_0(X_train)\n",
    "\n",
    "    #2. Calculate the loss\n",
    "    loss = loss_fn(y_pred,y_train)\n",
    "    # print(f'Loss = {loss}')\n",
    "\n",
    "    #3. optimizer zero grad\n",
    "    optimizer.zero_grad()\n",
    "\n",
    "    #4. Perform backpropagation on the loss with respect to the parameters of the model\n",
    "    loss.backward()\n",
    "\n",
    "    #5. step the optimizer (perform gradient descent)\n",
    "    optimizer.step() # by default how the optimizer changes will acculumagte through the loop so... we have to zero them above in step 3 for the next iteration of the loop \n",
    "    \n",
    "    model_0.eval() # turns off gradient tracking (turns off diffrent settings in the model not needed for evaluation/testing) \n",
    "\n",
    "    with torch.inference_mode():\n",
    "        #1. Do the forward pass\n",
    "        test_pred = model_0(X_test)\n",
    "\n",
    "        #2. calculate the loss\n",
    "        test_loss = loss_fn(test_pred,y_test)\n",
    "    if epoch % 10 == 0:\n",
    "        epoch_count.append(epoch)\n",
    "        loss_values.append(loss)\n",
    "        test_loss_values.append(test_loss)\n",
    "        \n",
    "        print(f'Epoch:{epoch} | Loss: {loss} | Test_loss: {test_loss}')\n",
    "\n",
    "    #print out model stat_dict()\n",
    "    # print(model_0.state_dict())"
   ]
  },
  {
   "cell_type": "code",
   "execution_count": 18,
   "id": "8f95ed3c-f9f8-4b30-b56c-680531dbe32c",
   "metadata": {},
   "outputs": [
    {
     "data": {
      "text/plain": [
       "array([0.31288138, 0.19767132, 0.08908726, 0.05314853, 0.04543797,\n",
       "       0.04167863, 0.03818933, 0.0347609 , 0.03132383, 0.0278874 ,\n",
       "       0.02445896, 0.02102021, 0.01758547, 0.01415539, 0.01071659,\n",
       "       0.00728353, 0.00385178, 0.00893248, 0.00893248, 0.00893248],\n",
       "      dtype=float32)"
      ]
     },
     "execution_count": 18,
     "metadata": {},
     "output_type": "execute_result"
    }
   ],
   "source": [
    "torch.tensor(loss_values).cpu().numpy()"
   ]
  },
  {
   "cell_type": "code",
   "execution_count": 19,
   "id": "9efeea82-7af4-472c-a586-8d3aa0bda089",
   "metadata": {},
   "outputs": [
    {
     "data": {
      "image/png": "[encoded data removed]",
      "text/plain": [
       "<Figure size 640x480 with 1 Axes>"
      ]
     },
     "metadata": {},
     "output_type": "display_data"
    }
   ],
   "source": [
    "# plot the loss curve\n",
    "plt.plot(epoch_count,torch.tensor(loss_values).numpy(),label='Train loss')\n",
    "plt.plot(epoch_count,torch.tensor(test_loss_values).numpy(),label=\"Test loss\")\n",
    "plt.ylabel('Loss')\n",
    "plt.xlabel('epochs')\n",
    "plt.legend();"
   ]
  },
  {
   "cell_type": "code",
   "execution_count": 20,
   "id": "f7ecfbb6-7614-47f2-910f-d198211ffd6a",
   "metadata": {},
   "outputs": [
    {
     "data": {
      "text/plain": [
       "tensor([[0.8685],\n",
       "        [0.8825],\n",
       "        [0.8965],\n",
       "        [0.9105],\n",
       "        [0.9245],\n",
       "        [0.9384],\n",
       "        [0.9524],\n",
       "        [0.9664],\n",
       "        [0.9804],\n",
       "        [0.9944]])"
      ]
     },
     "execution_count": 20,
     "metadata": {},
     "output_type": "execute_result"
    }
   ],
   "source": [
    "with torch.inference_mode():\n",
    "    y_preds_new = model_0(X_test)\n",
    "y_preds_new    "
   ]
  },
  {
   "cell_type": "code",
   "execution_count": 21,
   "id": "580b43ab-7977-4a9e-8140-31e7ee4ee006",
   "metadata": {},
   "outputs": [],
   "source": [
    "# epochs = 1\n",
    "\n",
    "# for epoch in epochs:\n",
    "#     model_0.train()\n",
    "#     y_pred = model_0(X_train)\n",
    "#     loss = loss_fn(y_pred,y_train)\n",
    "#     optimizer.zero_grad()\n",
    "#     loss.backward()\n",
    "#     optimizer.step()\n",
    "#     model_0.eval()"
   ]
  },
  {
   "cell_type": "code",
   "execution_count": 22,
   "id": "225058fe-9d36-4585-aded-3b6b272e8135",
   "metadata": {},
   "outputs": [
    {
     "data": {
      "text/plain": [
       "OrderedDict([('weights', tensor([0.6990])), ('bias', tensor([0.3093]))])"
      ]
     },
     "execution_count": 22,
     "metadata": {},
     "output_type": "execute_result"
    }
   ],
   "source": [
    "model_0.state_dict()"
   ]
  },
  {
   "cell_type": "code",
   "execution_count": 23,
   "id": "4cff69ea-8ecb-4d2b-92dd-fec1ad6b84e0",
   "metadata": {},
   "outputs": [
    {
     "data": {
      "text/plain": [
       "(0.7, 0.3)"
      ]
     },
     "execution_count": 23,
     "metadata": {},
     "output_type": "execute_result"
    }
   ],
   "source": [
    "weight,bias"
   ]
  },
  {
   "cell_type": "code",
   "execution_count": 24,
   "id": "2bb97c28-4308-4def-a9a1-0a32ed61053f",
   "metadata": {},
   "outputs": [
    {
     "data": {
      "image/png": "[encoded data removed]",
      "text/plain": [
       "<Figure size 1000x700 with 1 Axes>"
      ]
     },
     "metadata": {},
     "output_type": "display_data"
    }
   ],
   "source": [
    "plot_predictions(predictions=y_preds_new)"
   ]
  },
  {
   "cell_type": "markdown",
   "id": "9a471085-f5c3-49e2-98f5-3ef1633d3e87",
   "metadata": {},
   "source": [
    "### Saving a model in PyTorch\n",
    "Three main method for saving and loading the models in PyTorch\n",
    "1. torch.save() - allows you save a PyTorch object in pythons pickle format\n",
    "2. torch.load() - allows you load a saved PyTorch object\n",
    "3. torch.nn.Module.load_state_dict() - this allows to load a models saved state dictionary"
   ]
  },
  {
   "cell_type": "code",
   "execution_count": 25,
   "id": "b9353b71-7469-4ae4-871a-6b8f000a9988",
   "metadata": {},
   "outputs": [
    {
     "data": {
      "text/plain": [
       "OrderedDict([('weights', tensor([0.6990])), ('bias', tensor([0.3093]))])"
      ]
     },
     "execution_count": 25,
     "metadata": {},
     "output_type": "execute_result"
    }
   ],
   "source": [
    "model_0.state_dict()"
   ]
  },
  {
   "cell_type": "code",
   "execution_count": 26,
   "id": "936136a2-51c6-4535-9fda-0c49707bd39c",
   "metadata": {},
   "outputs": [
    {
     "name": "stdout",
     "output_type": "stream",
     "text": [
      "Saving model to: models/model_0.pth\n"
     ]
    }
   ],
   "source": [
    "# saving our Pytorch model\n",
    "from pathlib import Path\n",
    "\n",
    "#1.create models directory\n",
    "MODEL_PATH = Path('models')\n",
    "MODEL_PATH.mkdir(parents=True,exist_ok=True) \n",
    "\n",
    "#2. Create mdoel save path\n",
    "MODEL_NAME = 'model_0.pth'\n",
    "MODEL_SAVE_PATH = MODEL_PATH/ MODEL_NAME\n",
    "\n",
    "#3. Save the model state dict\n",
    "print(f'Saving model to: {MODEL_SAVE_PATH}')\n",
    "torch.save(obj=model_0.state_dict(),\n",
    "          f=MODEL_SAVE_PATH)"
   ]
  },
  {
   "cell_type": "code",
   "execution_count": 27,
   "id": "44ca9a85-4254-4da5-bce0-ed5217f63ae2",
   "metadata": {},
   "outputs": [
    {
     "name": "stdout",
     "output_type": "stream",
     "text": [
      "total 4\n",
      "-rwxrwxrwx 1 khushwant khushwant 1496 Feb 27 02:07 model_0.pth\n"
     ]
    }
   ],
   "source": [
    "!ls -l models"
   ]
  },
  {
   "cell_type": "code",
   "execution_count": 28,
   "id": "f6882150-913f-4b68-a02b-8b3a9814a0bb",
   "metadata": {},
   "outputs": [
    {
     "data": {
      "text/plain": [
       "OrderedDict([('weights', tensor([0.6990])), ('bias', tensor([0.3093]))])"
      ]
     },
     "execution_count": 28,
     "metadata": {},
     "output_type": "execute_result"
    }
   ],
   "source": [
    "## Loading a pytoch model\n",
    "model_0.state_dict()"
   ]
  },
  {
   "cell_type": "code",
   "execution_count": 29,
   "id": "8b77290b-fc90-4cb1-9dee-d633ccf6f531",
   "metadata": {},
   "outputs": [
    {
     "data": {
      "text/plain": [
       "<All keys matched successfully>"
      ]
     },
     "execution_count": 29,
     "metadata": {},
     "output_type": "execute_result"
    }
   ],
   "source": [
    "loaded_model_0 = LinearRegressionModel()\n",
    "loaded_model_0.load_state_dict(torch.load(f=MODEL_SAVE_PATH))"
   ]
  },
  {
   "cell_type": "code",
   "execution_count": 30,
   "id": "50f18a7e-f8a2-4b1e-b950-015240489425",
   "metadata": {},
   "outputs": [
    {
     "data": {
      "text/plain": [
       "OrderedDict([('weights', tensor([0.6990])), ('bias', tensor([0.3093]))])"
      ]
     },
     "execution_count": 30,
     "metadata": {},
     "output_type": "execute_result"
    }
   ],
   "source": [
    "loaded_model_0.state_dict()"
   ]
  },
  {
   "cell_type": "code",
   "execution_count": 31,
   "id": "08bfefd8-0595-4849-91de-5aaf4a36792f",
   "metadata": {},
   "outputs": [
    {
     "data": {
      "text/plain": [
       "tensor([[0.8685],\n",
       "        [0.8825],\n",
       "        [0.8965],\n",
       "        [0.9105],\n",
       "        [0.9245],\n",
       "        [0.9384],\n",
       "        [0.9524],\n",
       "        [0.9664],\n",
       "        [0.9804],\n",
       "        [0.9944]])"
      ]
     },
     "execution_count": 31,
     "metadata": {},
     "output_type": "execute_result"
    }
   ],
   "source": [
    "# make some predition with our loaded model\n",
    "loaded_model_0.eval()\n",
    "with torch.inference_mode():\n",
    "    loaded_model_preds = loaded_model_0(X_test)\n",
    "\n",
    "loaded_model_preds"
   ]
  },
  {
   "cell_type": "code",
   "execution_count": 32,
   "id": "f2428637-43ae-484c-a7f1-a4c0216f46ca",
   "metadata": {},
   "outputs": [
    {
     "data": {
      "text/plain": [
       "tensor([[True],\n",
       "        [True],\n",
       "        [True],\n",
       "        [True],\n",
       "        [True],\n",
       "        [True],\n",
       "        [True],\n",
       "        [True],\n",
       "        [True],\n",
       "        [True]])"
      ]
     },
     "execution_count": 32,
     "metadata": {},
     "output_type": "execute_result"
    }
   ],
   "source": [
    "y_preds_new == loaded_model_preds"
   ]
  },
  {
   "cell_type": "markdown",
   "id": "6060c7df-7ca6-426e-b701-0e391f7d7fce",
   "metadata": {},
   "source": [
    "### Putting it all together"
   ]
  },
  {
   "cell_type": "code",
   "execution_count": 33,
   "id": "a32f3c1f-64ec-4b17-ad7a-ce0992a97c26",
   "metadata": {},
   "outputs": [
    {
     "data": {
      "text/plain": [
       "'2.3.0.dev20240218+cu121'"
      ]
     },
     "execution_count": 33,
     "metadata": {},
     "output_type": "execute_result"
    }
   ],
   "source": [
    "# importing pytorch and matplotlib\n",
    "import torch\n",
    "from torch import nn\n",
    "import matplotlib.pyplot as plt\n",
    "\n",
    "torch.__version__"
   ]
  },
  {
   "cell_type": "code",
   "execution_count": 34,
   "id": "76ea39db-c0c6-4ed3-81e5-95fe9202c589",
   "metadata": {},
   "outputs": [
    {
     "data": {
      "text/plain": [
       "'cuda'"
      ]
     },
     "execution_count": 34,
     "metadata": {},
     "output_type": "execute_result"
    }
   ],
   "source": [
    "device = 'cuda' if torch.cuda.is_available else 'cpu'\n",
    "device"
   ]
  },
  {
   "cell_type": "code",
   "execution_count": 35,
   "id": "fe0a1acb-cd3f-431d-83f2-6d4f8a5ccb95",
   "metadata": {},
   "outputs": [
    {
     "name": "stdout",
     "output_type": "stream",
     "text": [
      "Tue Feb 27 02:07:36 2024       \n",
      "+-----------------------------------------------------------------------------------------+\n",
      "| NVIDIA-SMI 550.54.10              Driver Version: 551.61         CUDA Version: 12.4     |\n",
      "|-----------------------------------------+------------------------+----------------------+\n",
      "| GPU  Name                 Persistence-M | Bus-Id          Disp.A | Volatile Uncorr. ECC |\n",
      "| Fan  Temp   Perf          Pwr:Usage/Cap |           Memory-Usage | GPU-Util  Compute M. |\n",
      "|                                         |                        |               MIG M. |\n",
      "|=========================================+========================+======================|\n",
      "|   0  NVIDIA GeForce RTX 4070 ...    On  |   00000000:01:00.0 Off |                  N/A |\n",
      "| N/A   40C    P0             22W /  105W |       0MiB /   8188MiB |      0%      Default |\n",
      "|                                         |                        |                  N/A |\n",
      "+-----------------------------------------+------------------------+----------------------+\n",
      "                                                                                         \n",
      "+-----------------------------------------------------------------------------------------+\n",
      "| Processes:                                                                              |\n",
      "|  GPU   GI   CI        PID   Type   Process name                              GPU Memory |\n",
      "|        ID   ID                                                               Usage      |\n",
      "|=========================================================================================|\n",
      "|  No running processes found                                                             |\n",
      "+-----------------------------------------------------------------------------------------+\n"
     ]
    }
   ],
   "source": [
    "!nvidia-smi"
   ]
  },
  {
   "cell_type": "code",
   "execution_count": 36,
   "id": "084b0f18-ef03-467d-a347-5e4368ec39ff",
   "metadata": {},
   "outputs": [
    {
     "data": {
      "text/plain": [
       "(40, 40, 10, 10)"
      ]
     },
     "execution_count": 36,
     "metadata": {},
     "output_type": "execute_result"
    }
   ],
   "source": [
    "# creating data \n",
    "weight = 0.8\n",
    "bias = 0.2\n",
    "\n",
    "#create range values\n",
    "start = 0\n",
    "end = 1\n",
    "step = 0.02\n",
    "\n",
    "#create X and y (features and labels)\n",
    "X = torch.arange(start,end,step).unsqueeze(dim=1)\n",
    "y = weight * X + bias\n",
    "\n",
    "# splitting data into training and test\n",
    "train_split = int(0.8*len(X))\n",
    "X_train,y_train = X[:train_split],y[:train_split]\n",
    "X_test,y_test = X[train_split:],y[train_split:]\n",
    "len(X_train),len(y_train),len(X_test),len(y_test)"
   ]
  },
  {
   "cell_type": "code",
   "execution_count": 37,
   "id": "99f4d254-b260-4e20-b567-05dbe0ef7499",
   "metadata": {},
   "outputs": [
    {
     "data": {
      "image/png": "[encoded data removed]",
      "text/plain": [
       "<Figure size 1000x700 with 1 Axes>"
      ]
     },
     "metadata": {},
     "output_type": "display_data"
    }
   ],
   "source": [
    "# Plot the data\n",
    "plot_predictions(X_train,y_train,y_test)"
   ]
  },
  {
   "cell_type": "code",
   "execution_count": 38,
   "id": "71aada3a-cc6b-40d0-aadf-dc193016e6df",
   "metadata": {},
   "outputs": [],
   "source": [
    "## building a pytorch linear model\n",
    "class LinearRegression(nn.Module):\n",
    "    def __init__(self):\n",
    "        super().__init__()\n",
    "\n",
    "        self.weight = nn.Parameter(torch.randn(1,requires_grad=True,dtype=torch.float))\n",
    "        self.bias = nn.Parameter(torch.randn(1,requires_grad=True,dtype=torch.float))\n",
    "\n",
    "    def forward(self,X:torch.Tensor) -> torch.Tensor:\n",
    "        return self.weight * self.X + self.bias"
   ]
  },
  {
   "cell_type": "code",
   "execution_count": 39,
   "id": "d1b2779a-7ff1-40b5-8e10-a80d0d019091",
   "metadata": {},
   "outputs": [
    {
     "data": {
      "text/plain": [
       "(LinearRegressionModelV2(\n",
       "   (linear_layer): Linear(in_features=1, out_features=1, bias=True)\n",
       " ),\n",
       " OrderedDict([('linear_layer.weight', tensor([[0.7645]])),\n",
       "              ('linear_layer.bias', tensor([0.8300]))]))"
      ]
     },
     "execution_count": 39,
     "metadata": {},
     "output_type": "execute_result"
    }
   ],
   "source": [
    "class LinearRegressionModelV2(nn.Module):\n",
    "    def __init__(self):\n",
    "        super().__init__()\n",
    "        self.linear_layer = nn.Linear(in_features=1,\n",
    "                                     out_features=1)\n",
    "\n",
    "    def forward(self,X:torch.Tensor) -> torch.Tensor:\n",
    "        return self.linear_layer(X)\n",
    "\n",
    "## set module seed\n",
    "torch.manual_seed(42)\n",
    "model_1 = LinearRegressionModelV2()\n",
    "model_1,model_1.state_dict()"
   ]
  },
  {
   "cell_type": "code",
   "execution_count": 40,
   "id": "0832346f-5d1d-47c7-80a7-dc7f0dd2b932",
   "metadata": {},
   "outputs": [
    {
     "data": {
      "text/plain": [
       "device(type='cpu')"
      ]
     },
     "execution_count": 40,
     "metadata": {},
     "output_type": "execute_result"
    }
   ],
   "source": [
    "# check the model current device\n",
    "next(model_1.parameters()).device"
   ]
  },
  {
   "cell_type": "code",
   "execution_count": 41,
   "id": "7a815753-7afb-4c22-983b-f0bbf9382804",
   "metadata": {},
   "outputs": [
    {
     "data": {
      "text/plain": [
       "device(type='cuda', index=0)"
      ]
     },
     "execution_count": 41,
     "metadata": {},
     "output_type": "execute_result"
    }
   ],
   "source": [
    "# set the model to use the target device\n",
    "model_1.to(device)\n",
    "next(model_1.parameters()).device"
   ]
  },
  {
   "cell_type": "code",
   "execution_count": 42,
   "id": "de6df0ac-b610-4a77-bc1d-44d3f7cb1ee7",
   "metadata": {},
   "outputs": [],
   "source": [
    "# training part\n",
    "\n",
    "#setup loss function\n",
    "loss_fn = nn.L1Loss()\n",
    "\n",
    "#setup our optimizer\n",
    "optimizer = torch.optim.SGD(params=model_1.parameters(),lr=0.01)"
   ]
  },
  {
   "cell_type": "code",
   "execution_count": 43,
   "id": "ddf9f9b0-33c5-4f26-86a4-36b861f23c0d",
   "metadata": {},
   "outputs": [
    {
     "name": "stdout",
     "output_type": "stream",
     "text": [
      "Epoch:0 | Loss: 0.6161779165267944 | Test_loss: 0.5849762558937073\n",
      "Epoch:10 | Loss: 0.5009680986404419 | Test_loss: 0.45026642084121704\n",
      "Epoch:20 | Loss: 0.3857581913471222 | Test_loss: 0.3155565857887268\n",
      "Epoch:30 | Loss: 0.2705483138561249 | Test_loss: 0.180846706032753\n",
      "Epoch:40 | Loss: 0.15533843636512756 | Test_loss: 0.046136897057294846\n",
      "Epoch:50 | Loss: 0.05875825881958008 | Test_loss: 0.06886561214923859\n",
      "Epoch:60 | Loss: 0.04580378159880638 | Test_loss: 0.09473040699958801\n",
      "Epoch:70 | Loss: 0.041819483041763306 | Test_loss: 0.09405827522277832\n",
      "Epoch:80 | Loss: 0.03831038996577263 | Test_loss: 0.08853326737880707\n",
      "Epoch:90 | Loss: 0.034879546612501144 | Test_loss: 0.08094760775566101\n",
      "Epoch:100 | Loss: 0.03144557774066925 | Test_loss: 0.07267507165670395\n",
      "Epoch:110 | Loss: 0.028006771579384804 | Test_loss: 0.06440252810716629\n",
      "Epoch:120 | Loss: 0.024577612057328224 | Test_loss: 0.056816864758729935\n",
      "Epoch:130 | Loss: 0.021141953766345978 | Test_loss: 0.04854437708854675\n",
      "Epoch:140 | Loss: 0.017704110592603683 | Test_loss: 0.040958791971206665\n",
      "Epoch:150 | Loss: 0.014275657944381237 | Test_loss: 0.03268631175160408\n",
      "Epoch:160 | Loss: 0.010838326066732407 | Test_loss: 0.02441384270787239\n",
      "Epoch:170 | Loss: 0.007402162533253431 | Test_loss: 0.016828244552016258\n",
      "Epoch:180 | Loss: 0.0039735035970807076 | Test_loss: 0.008555757813155651\n",
      "Epoch:190 | Loss: 0.008990190923213959 | Test_loss: 0.005145949311554432\n"
     ]
    }
   ],
   "source": [
    "# training loop\n",
    "torch.manual_seed(42)\n",
    "\n",
    "epochs = 200 \n",
    "# put data on the target device \n",
    "X_train = X_train.to(device)\n",
    "X_test = X_test.to(device)\n",
    "y_train = y_train.to(device)\n",
    "y_test = y_test.to(device)\n",
    "\n",
    "\n",
    "for epoch in range(epochs):\n",
    "    model_1.train()\n",
    "\n",
    "    y_pred = model_1(X_train)\n",
    "    loss = loss_fn(y_pred,y_train)\n",
    "    optimizer.zero_grad()\n",
    "    loss.backward()\n",
    "    optimizer.step()\n",
    "    model_1.eval()\n",
    "    with torch.inference_mode():\n",
    "        test_preds = model_1(X_test)\n",
    "\n",
    "        test_loss = loss_fn(test_preds,y_test)\n",
    "\n",
    "    if epoch % 10 == 0:\n",
    "         print(f'Epoch:{epoch} | Loss: {loss} | Test_loss: {test_loss}')       "
   ]
  },
  {
   "cell_type": "code",
   "execution_count": 44,
   "id": "e9725c97-8525-4c28-9473-7eca19e4431a",
   "metadata": {},
   "outputs": [
    {
     "data": {
      "text/plain": [
       "OrderedDict([('linear_layer.weight', tensor([[0.7987]], device='cuda:0')),\n",
       "             ('linear_layer.bias', tensor([0.2095], device='cuda:0'))])"
      ]
     },
     "execution_count": 44,
     "metadata": {},
     "output_type": "execute_result"
    }
   ],
   "source": [
    "model_1.state_dict()"
   ]
  },
  {
   "cell_type": "code",
   "execution_count": 45,
   "id": "67ba3adc-d7e4-4138-950e-a2b42f8f2c25",
   "metadata": {},
   "outputs": [
    {
     "data": {
      "text/plain": [
       "(0.8, 0.2)"
      ]
     },
     "execution_count": 45,
     "metadata": {},
     "output_type": "execute_result"
    }
   ],
   "source": [
    "weight,bias"
   ]
  },
  {
   "cell_type": "code",
   "execution_count": 46,
   "id": "1f9b1889-2d4c-4665-b975-9bb8cf682152",
   "metadata": {},
   "outputs": [
    {
     "data": {
      "text/plain": [
       "tensor([[0.8484],\n",
       "        [0.8644],\n",
       "        [0.8804],\n",
       "        [0.8964],\n",
       "        [0.9123],\n",
       "        [0.9283],\n",
       "        [0.9443],\n",
       "        [0.9603],\n",
       "        [0.9762],\n",
       "        [0.9922]], device='cuda:0')"
      ]
     },
     "execution_count": 46,
     "metadata": {},
     "output_type": "execute_result"
    }
   ],
   "source": [
    "model_1.eval()\n",
    "\n",
    "with torch.inference_mode():\n",
    "    y_preds = model_1(X_test)\n",
    "y_preds       "
   ]
  },
  {
   "cell_type": "code",
   "execution_count": 47,
   "id": "7bf10833-4da4-452a-a2e7-bee1c247289b",
   "metadata": {},
   "outputs": [
    {
     "data": {
      "image/png": "[encoded data removed]",
      "text/plain": [
       "<Figure size 1000x700 with 1 Axes>"
      ]
     },
     "metadata": {},
     "output_type": "display_data"
    }
   ],
   "source": [
    "plot_predictions(predictions=y_preds.cpu())"
   ]
  },
  {
   "cell_type": "code",
   "execution_count": 49,
   "id": "b6ff4faf-49e8-4842-a164-426e03c9a302",
   "metadata": {},
   "outputs": [
    {
     "name": "stdout",
     "output_type": "stream",
     "text": [
      "Saving model to: models/model_1.pth\n"
     ]
    }
   ],
   "source": [
    "# saving our Pytorch model\n",
    "from pathlib import Path\n",
    "\n",
    "#1.create models directory\n",
    "MODEL_PATH = Path('models')\n",
    "MODEL_PATH.mkdir(parents=True,exist_ok=True) \n",
    "\n",
    "#2. Create mdoel save path\n",
    "MODEL_NAME = 'model_1.pth'\n",
    "MODEL_SAVE_PATH = MODEL_PATH/ MODEL_NAME\n",
    "\n",
    "#3. Save the model state dict\n",
    "print(f'Saving model to: {MODEL_SAVE_PATH}')\n",
    "torch.save(obj=model_1.state_dict(),\n",
    "          f=MODEL_SAVE_PATH)"
   ]
  },
  {
   "cell_type": "code",
   "execution_count": 50,
   "id": "a4b4fb3b-1af1-4573-8a9a-0a5c73556fa3",
   "metadata": {},
   "outputs": [
    {
     "data": {
      "text/plain": [
       "OrderedDict([('linear_layer.weight', tensor([[0.7987]], device='cuda:0')),\n",
       "             ('linear_layer.bias', tensor([0.2095], device='cuda:0'))])"
      ]
     },
     "execution_count": 50,
     "metadata": {},
     "output_type": "execute_result"
    }
   ],
   "source": [
    "model_1.state_dict()"
   ]
  },
  {
   "cell_type": "code",
   "execution_count": 51,
   "id": "255a2e9e-564e-4d17-bf60-8ce456b0d14a",
   "metadata": {},
   "outputs": [
    {
     "data": {
      "text/plain": [
       "LinearRegressionModelV2(\n",
       "  (linear_layer): Linear(in_features=1, out_features=1, bias=True)\n",
       ")"
      ]
     },
     "execution_count": 51,
     "metadata": {},
     "output_type": "execute_result"
    }
   ],
   "source": [
    "#load Model\n",
    "loaded_model_1 = LinearRegressionModelV2()\n",
    "\n",
    "# load the saved model_1 state dict\n",
    "loaded_model_1.load_state_dict(torch.load(MODEL_SAVE_PATH))\n",
    "\n",
    "loaded_model_1.to(device)"
   ]
  },
  {
   "cell_type": "code",
   "execution_count": 52,
   "id": "8e17c291-7754-4b24-a4a9-f0400cfe6345",
   "metadata": {},
   "outputs": [
    {
     "data": {
      "text/plain": [
       "device(type='cuda', index=0)"
      ]
     },
     "execution_count": 52,
     "metadata": {},
     "output_type": "execute_result"
    }
   ],
   "source": [
    "next(loaded_model_1.parameters()).device"
   ]
  },
  {
   "cell_type": "code",
   "execution_count": 53,
   "id": "fe65d6d5-4019-423a-9a97-be61432fafd6",
   "metadata": {},
   "outputs": [
    {
     "data": {
      "text/plain": [
       "OrderedDict([('linear_layer.weight', tensor([[0.7987]], device='cuda:0')),\n",
       "             ('linear_layer.bias', tensor([0.2095], device='cuda:0'))])"
      ]
     },
     "execution_count": 53,
     "metadata": {},
     "output_type": "execute_result"
    }
   ],
   "source": [
    "loaded_model_1.state_dict()"
   ]
  },
  {
   "cell_type": "code",
   "execution_count": null,
   "id": "6b0ffee9-6351-43a8-8965-832dd6523f34",
   "metadata": {},
   "outputs": [],
   "source": [
    "# evaluate loaded model\n",
    "loaded_model.eval()\n",
    "with torch.inference_mode():\n",
    "    loaded_model_1_preds = loaded_model_1(X_test)\n",
    "y_preds ==     "
   ]
  }
 ],
 "metadata": {
  "kernelspec": {
   "display_name": "Python 3 (ipykernel)",
   "language": "python",
   "name": "python3"
  },
  "language_info": {
   "codemirror_mode": {
    "name": "ipython",
    "version": 3
   },
   "file_extension": ".py",
   "mimetype": "text/x-python",
   "name": "python",
   "nbconvert_exporter": "python",
   "pygments_lexer": "ipython3",
   "version": "3.10.13"
  }
 },
 "nbformat": 4,
 "nbformat_minor": 5
}
